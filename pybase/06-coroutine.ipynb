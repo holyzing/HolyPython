{
 "cells": [
  {
   "cell_type": "code",
   "execution_count": null,
   "metadata": {},
   "outputs": [],
   "source": [
    "class YieldLearn(object):\n",
    "\n",
    "    @staticmethod\n",
    "    def consumer():\n",
    "        r = \"init consumer finished !\"\n",
    "        # first iterating start yiled-befor and end at yield, and later start yield-after and end at yield in a loop.\n",
    "\n",
    "        print(\"---- init befor ----\")\n",
    "        while True:\n",
    "            # yield has two function: 1-get data 2-return data\n",
    "            print(\"---- yield befor ----\")\n",
    "            n = yield r\n",
    "            # n is the value sent in and r is the value to be returned\n",
    "            print(\"---- yield after ----\")\n",
    "            if not n:\n",
    "                r = \"The producer has produced a empty value !\"\n",
    "                return  # return break : Will interrupt code execution after yield and throw StopIteration .\n",
    "                # continue : Will direct excute the code before yield in a loop and not excute the code after continue .\n",
    "            print('[CONSUMER] Consuming %s...' %n)\n",
    "            r = f'200 OK with {n}'\n",
    "        print(\"---- init after ----\")\n",
    " \n",
    "    @staticmethod\n",
    "    def produce(c):\n",
    "        print(c.send(None)) # next(c) : The next function can also do preexcitation\n",
    "        # can't send non-None value to a just-started generator, should send None for preexcuting . \n",
    "        n = 0\n",
    "        while n < 3:\n",
    "            n = n + 1\n",
    "            print('[PRODUCER] Producing %s...' % n)\n",
    "            r = c.send(n)\n",
    "            print('[PRODUCER] Consumer return: %s' % r)\n",
    "        c.close()\n",
    "\n",
    "    @staticmethod\n",
    "    def test():\n",
    "        # yield yield from 协程，协程实现高并发\n",
    "        Genvent.produce(Genvent.consumer())\n",
    "if __name__ == \"__main__\":\n",
    "    YieldLearn.produce(YieldLearn.consumer)\n",
    "\n",
    "\n",
    "双素数问题 位移  哈希表  布隆过滤去  新的工作一定要去夯实自己的技术栈  \n",
    "从网络 到语言 到算法 到python库 到 java基础 到大数据  到go语言  普通话"
   ]
  },
  {
   "cell_type": "markdown",
   "metadata": {},
   "source": [
    "### Gevent"
   ]
  },
  {
   "cell_type": "markdown",
   "metadata": {},
   "source": [
    "### Asynchronous IO"
   ]
  }
 ],
 "metadata": {
  "kernelspec": {
   "display_name": "Python 3",
   "language": "python",
   "name": "python3"
  },
  "language_info": {
   "codemirror_mode": {
    "name": "ipython",
    "version": 3
   },
   "file_extension": ".py",
   "mimetype": "text/x-python",
   "name": "python",
   "nbconvert_exporter": "python",
   "pygments_lexer": "ipython3",
   "version": "3.6.8"
  }
 },
 "nbformat": 4,
 "nbformat_minor": 2
}