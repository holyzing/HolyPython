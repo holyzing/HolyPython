{
 "cells": [
  {
   "cell_type": "code",
   "execution_count": null,
   "metadata": {},
   "outputs": [],
   "source": [
    "class ThreadPlay(object):\n",
    "    \"\"\"\n",
    "    1- Python的线程是真正的Posix Thread，而不是模拟出来的线程!\n",
    "    2- threading和_thread，_thread是低级模块，threading对前者封装的高级模块!\n",
    "    3- 一个线程就是一个轻量级进程，Python是如何运行多线程的，GIL 是如何贯穿线程的 ?\n",
    "    process thread daemon(守护进程 / 线程)\n",
    "\n",
    "    GIL （global interpreter lock）       【单词： Interceptor 拦截器】\n",
    "         线程是最小的执行单元，而进程由至少一个线程组成。如何调度进程和线程，完全由操作系统决定，\n",
    "         程序自己不能决定什么时候执行，执行多长时间。\n",
    "\n",
    "    java实现的是一种多线程的机制，就java本身概念而言(虚拟机规范)，线程级别的。\n",
    "        但是java到底是多进程的还是多线程的，根本由操作系统本身来决定，\n",
    "        并不由java来决定，因为进程与线程的这种机制本身就只取决于操作系统，\n",
    "        而不取决于高级语言语言，对于内存分配以及cpu时间片段的分配利用，是由更低级的比操作系统低的语言来实现。\n",
    "        对于一些老式的unix操作系统，它是没有线程概念存在的，它的异步协作方式就是多进程共享内存的方式来完成的，因此，\n",
    "        在这种操作系统上，根本就不存在线程，java也没法实现线程，因此java就是多进程的应用程序，由多个java进程来完成协作。\n",
    "        然而在windows上面，进程间的内存空间是互相独立的，数据不能直接共享，它的异步协作方式由进程中的线程来完成，\n",
    "        这些线程共享进程所属内存来完成异步协作，所以java在这种操作系统上，表现的就是单进程多线程的方式。\n",
    "        就进程与线程的概念，并不是java本身一个概念，它们是操作系统级别的概念，java只是将操作系统的这种方式进行了包装，\n",
    "        而并非自己去实现一套cpu时钟与内存访问机制，java本身是跳不出操作系统层面的。\n",
    "\n",
    "       并发与并行是不同的概念：并发同一时间段内轮换执行，并行同一时间内一同\n",
    "\n",
    "       TODO 在线程退出后，尝试再次启动线程时，抛出RuntimeError异常，表明线程对象在定义后只能启动一次。\n",
    "\n",
    "    \"\"\"\n",
    "\n",
    "    # daemon\n",
    "    # join\n",
    "    # print 是线程不安全的\n",
    "\n",
    "    def __init__(self):\n",
    "        pass\n",
    "\n",
    "    pass"
   ]
  }
 ],
 "metadata": {
  "kernelspec": {
   "display_name": "Python 3",
   "language": "python",
   "name": "python3"
  },
  "language_info": {
   "codemirror_mode": {
    "name": "ipython",
    "version": 3
   },
   "file_extension": ".py",
   "mimetype": "text/x-python",
   "name": "python",
   "nbconvert_exporter": "python",
   "pygments_lexer": "ipython3",
   "version": "3.6.8"
  }
 },
 "nbformat": 4,
 "nbformat_minor": 2
}
