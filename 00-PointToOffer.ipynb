{
 "cells": [
  {
   "cell_type": "markdown",
   "metadata": {},
   "source": [
    "### 01- 二维数组中的查找\n",
    "    在一个二维数组中（每个一维数组的长度相同），每一行都按照从左到右递增的顺序排序，每一列都按照从上到下递增的顺序排序。\n",
    "    请完成一个函数，输入  这样的一个二维数组和一个整数，判断数组中是否含有该整数。\n",
    "\n",
    "从右上角(或者左下角)开始查找：\n",
    "\n",
    "- 如果target更大，指针下移\n",
    "- 如果target更小，指针左移"
   ]
  }
 ],
 "metadata": {
  "kernelspec": {
   "display_name": "Python 3",
   "language": "python",
   "name": "python3"
  },
  "language_info": {
   "codemirror_mode": {
    "name": "ipython",
    "version": 3
   },
   "file_extension": ".py",
   "mimetype": "text/x-python",
   "name": "python",
   "nbconvert_exporter": "python",
   "pygments_lexer": "ipython3",
   "version": "3.6.8"
  }
 },
 "nbformat": 4,
 "nbformat_minor": 2
}
