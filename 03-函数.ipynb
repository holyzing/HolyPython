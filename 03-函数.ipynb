{
 "cells": [
  {
   "cell_type": "markdown",
   "metadata": {},
   "source": [
    "### 引用传递\n",
    "    \n",
    "    参数形式：\n",
    "        位置参数    不定长参数    关键字参数\n",
    "        \n",
    "    传递引用：\n",
    "        即参数其实是实参所在内存(哈希,标记)的引用\n",
    "\n",
    "        当引用是可变的时候,可直接通过引用修改可变长的参数,当引用不可变的时候,则会将引用所对\n",
    "        应的值拷贝,然后运算,存入新的地址,然后将引用重新指向新的地址.(赋予引用新的哈希值,标记)\n",
    "\n",
    "        A+=A  直接在引用的列表上扩展,列表地址没有发生变化\n",
    "        A=A+A 可变列表的引用A指向的地址发生变化,原列表被拷贝到新的地址\n",
    "\n",
    "    引用传递（pass-by-reference）：\n",
    "        如果你改变一个函数内的参数，会影响到函数的调用。这是Python的默认操作。\n",
    "        不过，如果我们传递字面参数，比如字符串、数字或元组，它们是按值传递，这是因为它们是不可变的。\n",
    "    \n",
    "    注意java中 数组中放入var 实际上是  array[index] = var, list则并没有索引变零，只能直接返回匿名对象"
   ]
  },
  {
   "cell_type": "markdown",
   "metadata": {},
   "source": [
    "### 参数缺省缓存\n",
    "    容器参数缺省缓存"
   ]
  },
  {
   "cell_type": "code",
   "execution_count": null,
   "metadata": {
    "code_folding": [
     0
    ]
   },
   "outputs": [],
   "source": [
    "class Group(object):\n",
    "\n",
    "    def __init__(self, idten, members=None):\n",
    "        self.idten = idten\n",
    "        # self.members = members\n",
    "        if members is None:  # 处理默认缓存，动态生成列表\n",
    "            self.members = []\n",
    "        else:\n",
    "            self.members = members\n",
    "\n",
    "    def add_member(self, member):\n",
    "        self.members.append(member)\n",
    "\n",
    "    @staticmethod\n",
    "    def extendList(var, list=[], dict={}):\n",
    "        \"\"\"\n",
    "            如果缺省参数是可变类型,python内存中只初始化一次,且第二次调用函数时保持初始化状态\n",
    "            即当参数缺省时 形参列表中对应的引用会指向第一次参数缺省时初始化的地址\n",
    "        \"\"\"\n",
    "        list.append(var)\n",
    "        dict[var] = var\n",
    "        return list, dict\n",
    "\n",
    "    @classmethod\n",
    "    def test_group(cls):\n",
    "        group1 = Group(1)\n",
    "        group1.add_member('瑶')\n",
    "        group1.add_member('雪')\n",
    "        print(id(group1))\n",
    "        print(group1.members)\n",
    "\n",
    "        group2 = Group(2)\n",
    "        group2.add_member('倩')\n",
    "        group2.add_member('阳')\n",
    "        print(group1.members is group2.members, id(group2), group2.members, id(group1), group1.members)\n",
    "\n",
    "        group3 = Group(1, ['aa'])  # 按照形参顺序排序参数\n",
    "        group3.add_member('bb')\n",
    "        print(group3.members)\n",
    "\n",
    "        # group4 = Group(members=['aa'], 1)\n",
    "        # positional argument follows keyword argument\n",
    "\n",
    "    @staticmethod\n",
    "    def prove():\n",
    "        list1 = Group.extendList(5)\n",
    "        print(list1)\n",
    "        list2 = Group.extendList(123, [1, 'a', 3])\n",
    "        print(list2)\n",
    "        list3 = Group.extendList(15)\n",
    "        print(list1, list2, list3)\n",
    "        Group.test_path_argv()"
   ]
  },
  {
   "cell_type": "markdown",
   "metadata": {},
   "source": [
    "### 闭包\n",
    "    外部函数返回对内部函数的引用就会形成闭包，迟邦定只有在闭包时才有意义。\n",
    "    闭包时，外部函数执行完之后会保留内部函数使用到的内存，而不是全部释放。\n",
    "    解释器在解释的时候就会执行闭包最外层的代码。\n",
    "    \n",
    "    外部函数在执行之后，内部函数会绑定(引用)使用到的外部变量，而这个绑定是延迟到调用内部函数的时候。\n",
    "    \n",
    "    当在局部代码块中(方法中)对全局变量重新指定引用的时候(=),\n",
    "    需要使用global声明全局变量，否则的会在局部命名空间中重新创建一个变量。\n",
    "    \n",
    "    在方法中使用实例或者类属性是都需要声明范围的，即给定指向器 global cls __class__  self"
   ]
  },
  {
   "cell_type": "markdown",
   "metadata": {},
   "source": [
    "### 迟绑定\n",
    "    内部函数使用的是外部函数的变量都是迟绑定的，只有当调用内部函数时，才绑定外部函数执行之后滞留的变量的的值。\n",
    "    a = [lambda x: i*x for i in range(4)]   #PS: [] () {} 等一些列符号都可视为函数。\n",
    "    print([m(2) for m in a]) --> [6,6,6,6]"
   ]
  },
  {
   "cell_type": "markdown",
   "metadata": {},
   "source": [
    "### 装饰器\n",
    "\n",
    "    本质上是一个Python函数，它可以让其他函数在不需要做任何代码变动的前提下增加额外功能，\n",
    "    装饰器的返回值也是一个函数对象。\n",
    "\n",
    "    它经常用于有切面需求的场景，比如：插入日志、性能测试、事务处理、缓存、权限校验等场景。\n",
    "    装饰器是解决这类问题的绝佳设计，\n",
    "\n",
    "    有了装饰器，我们就可以抽离出大量与函数功能本身无关的雷同代码并继续重用。\n",
    "\n",
    "    装饰器函数其实是这样一个接口约束，它必须接受一个callable对象作为参数，然后返回一个callable对象。\n",
    "    \n",
    "    在Python中一般callable对象都是函数，但也有例外。\n",
    "    只要某个对象重载了__call__()方法，那么这个对象就是callable的。\n",
    "\n",
    "    函数装饰器\n",
    "        TODO: 装饰函数的？？？将方法作为第一个参数传入\n",
    "    类装饰器\n",
    "        TODO：装饰类的？？？ 将类作为第一个参数传入"
   ]
  },
  {
   "cell_type": "code",
   "execution_count": 1,
   "metadata": {
    "code_folding": []
   },
   "outputs": [
    {
     "name": "stdout",
     "output_type": "stream",
     "text": [
      "begin decorator: DEBUG\n",
      "end decorator: DEBUG\n"
     ]
    }
   ],
   "source": [
    "def logger(level):\n",
    "    def outer(func):\n",
    "        print(f\"begin decorator: {level}\")\n",
    "        def wrapper(*args, **kwargs):\n",
    "            print(\"Before Advice\")\n",
    "            result = func(*args, **kwargs)\n",
    "            print(\"After Advice\")\n",
    "            return result\n",
    "        print(\"end decorator: {}\".format(level))\n",
    "        return wrapper\n",
    "    return outer\n",
    "\n",
    "# 语法糖，装饰器参数一层，被装饰对象一层，环绕一层。\n",
    "@logger(level='DEBUG')\n",
    "def task(something):\n",
    "    print(\"hello {}!\".format(something))\n",
    "    return \"result\"\n",
    "\n",
    "# task = logger(level='DEBUG')(task) # No decorators\n",
    "\n",
    "# TODO 传参顺序层次      带与不带() 的区别"
   ]
  },
  {
   "cell_type": "markdown",
   "metadata": {},
   "source": [
    "### 常用调用方式\n",
    "    回调（Callback）\n",
    "    \n",
    "    递归（Recursion）\n",
    "        每一次递归调用都会增加内存的开销，函数的递归调用就是压栈,出栈的过程\n",
    "    \n",
    "    钩子（Hook）\n",
    "    \n",
    "    注册器（Register）\n",
    "    \n",
    "    匿名（Lambda）\n",
    "    \n",
    "    "
   ]
  }
 ],
 "metadata": {
  "kernelspec": {
   "display_name": "Python 3",
   "language": "python",
   "name": "python3"
  },
  "language_info": {
   "codemirror_mode": {
    "name": "ipython",
    "version": 3
   },
   "file_extension": ".py",
   "mimetype": "text/x-python",
   "name": "python",
   "nbconvert_exporter": "python",
   "pygments_lexer": "ipython3",
   "version": "3.6.8"
  }
 },
 "nbformat": 4,
 "nbformat_minor": 2
}
