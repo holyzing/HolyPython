{
 "cells": [
  {
   "cell_type": "markdown",
   "metadata": {
    "heading_collapsed": true
   },
   "source": [
    "#### os --- sys\n",
    "    os 中提供一切io操作\n",
    "    在文件打开后一次性将文件内容读完,也就是打开一次,只能读一次\n",
    "\n",
    "    r(read)         文件必须存在 (不指定访问方式,默认也是读文件)\n",
    "    w(write)        文件存在覆盖原内容,不存在则创建\n",
    "    a(append)       文件(内容指针指向文件内容末尾)\n",
    "    rb(read binary) wb ab r+ w+ a+ rb+ rw+ ab+\n",
    "\n",
    "    file.tell()    f.seek(offset, from)    read(...)   readline(...)    readlines()\n",
    "        \n",
    "    os.kill()    os._exit()    sys.exit()    os.popen('taskkill.exe /pid:'+str(pid))\n",
    "\n",
    "    CSV文件可直接像txt一样读取。"
   ]
  },
  {
   "cell_type": "code",
   "execution_count": null,
   "metadata": {
    "hidden": true
   },
   "outputs": [],
   "source": [
    "import os\n",
    "import sys\n",
    "class OS_IO(object):\n",
    "    def testIO():\n",
    "        os.chdir('C:\\\\Users\\\\lifei\\\\Desktop')\n",
    "        with open('Today.txt') as today:  # Iterable\n",
    "            count = 0\n",
    "            for i in today.read():\n",
    "                if i.isupper():\n",
    "                    count += 1\n",
    "        # sys.argv: 启动程序时传入的参数组成的元组\n",
    "        # sys.path: 加载的path\n",
    "        print(count, sys.path, \"\\n\", sys.argv, \"\\n\", sys.getrecursionlimit())\n",
    "        print(os.path.dirname(__file__))\n",
    "        for root, dirs, files in os.walk('.\\\\'):\n",
    "            print(root, dirs, files)\n",
    "        for temp in os.walk('.\\\\'):\n",
    "            print(temp)\n",
    "\n",
    "    @staticmethod\n",
    "    def recursion(url, li=[]):\n",
    "        if os.path.isdir(url):\n",
    "            file_list = os.listdir(url)\n",
    "            for ret in file_list:\n",
    "                base_url = os.path.join(url, ret)\n",
    "                if os.path.isfile(base_url):\n",
    "                    li.append(ret)\n",
    "                else:\n",
    "                    recursion(base_url)\n",
    "            return li\n",
    "        else:\n",
    "            return os.path.basename(url)\n",
    "\n",
    "    @staticmethod\n",
    "    def heap_stack():\n",
    "        url = r'url'\n",
    "        lis = [url]\n",
    "        while lis:          # 虽然可以列出来，但是会打乱顺序\n",
    "            url = lis.pop()\n",
    "            ret_list = os.listdir(url)\n",
    "            for name in ret_list:\n",
    "                abs_path = os.path.join(url, name)\n",
    "                if os.path.isdir(abs_path):\n",
    "                    lis.append(abs_path)\n",
    "                else:\n",
    "                    print(name)\n",
    "        with open(\"\") as file:\n",
    "            file.read()  # read a defaultbyts"
   ]
  },
  {
   "cell_type": "markdown",
   "metadata": {
    "heading_collapsed": true
   },
   "source": [
    "### re"
   ]
  },
  {
   "cell_type": "code",
   "execution_count": 1,
   "metadata": {
    "hidden": true
   },
   "outputs": [],
   "source": [
    "def re_use():\n",
    "    p = re.compile(\"blue|white|red\")\n",
    "    print(p.sub('colour', 'blue socks and red shoes'))\n",
    "    print(p.sub('colour', 'blue socks and red shoes', count=1))\n",
    "    # subn()方法执行的效果跟sub()一样，不过它会返回一个二维数组，包括替换后的新的字符串和总共替换的数量"
   ]
  },
  {
   "cell_type": "markdown",
   "metadata": {
    "heading_collapsed": true
   },
   "source": [
    "### datetime"
   ]
  },
  {
   "cell_type": "code",
   "execution_count": null,
   "metadata": {
    "hidden": true
   },
   "outputs": [],
   "source": []
  },
  {
   "cell_type": "markdown",
   "metadata": {},
   "source": [
    "### collections"
   ]
  },
  {
   "cell_type": "code",
   "execution_count": 9,
   "metadata": {},
   "outputs": [
    {
     "name": "stdout",
     "output_type": "stream",
     "text": [
      "{1, 'a', 'b'} <class 'NoneType'> frozenset({1, 'a', 'b'})\n",
      "True False False\n"
     ]
    }
   ],
   "source": [
    "from collections import MutableSet\n",
    "from copy import copy, deepcopy\n",
    "a = {'a', 'b'}\n",
    "a.add(1)\n",
    "b = frozenset(a)\n",
    "print(a, type(None), b)\n",
    "l1 = ['a']\n",
    "l2 = l1\n",
    "l3 = copy(l1)\n",
    "l4 = list(l1)\n",
    "print(l1 is l2, l1 is l3, l1 is l4)\n"
   ]
  },
  {
   "cell_type": "markdown",
   "metadata": {
    "heading_collapsed": true
   },
   "source": [
    "### itertools"
   ]
  },
  {
   "cell_type": "code",
   "execution_count": null,
   "metadata": {
    "hidden": true
   },
   "outputs": [],
   "source": [
    "import itertools\n",
    "\n",
    "def itertools_use():\n",
    "    for x in itertools.permutations([i + 1 for i in range(30)], 30):\n",
    "        \"\"\"\n",
    "        product 笛卡尔积　　（有放回抽样排列）\n",
    "        permutations 排列　　（不放回抽样排列）\n",
    "        combinations 组合,没有重复　　（不放回抽样组合）\n",
    "        combinations_with_replacement 组合,有重复　　（有放回抽样组合）\n",
    "        \"\"\"\n",
    "        print(reduce(lambda i, j: i * j, x))\n",
    "        break\n",
    "        a = range(5)\n",
    "        b = (i for i in a)\n",
    "        c = list(a)"
   ]
  },
  {
   "cell_type": "markdown",
   "metadata": {
    "heading_collapsed": true
   },
   "source": [
    "### functools "
   ]
  },
  {
   "cell_type": "code",
   "execution_count": null,
   "metadata": {
    "hidden": true
   },
   "outputs": [],
   "source": [
    "from functools import reduce"
   ]
  },
  {
   "cell_type": "markdown",
   "metadata": {
    "heading_collapsed": true
   },
   "source": [
    "### json -- ujson -- pickle"
   ]
  },
  {
   "cell_type": "code",
   "execution_count": null,
   "metadata": {
    "hidden": true
   },
   "outputs": [],
   "source": [
    "import json\n",
    "'''\n",
    "    序列化  复数 和 datetime\n",
    "    反序列化\n",
    "    __dict__\n",
    "    __slots__\n",
    "    pickle  是一种序列化为二进制文件的方式。\n",
    "'''\n",
    "\n",
    "class CustomEncoder (json.JSONEncoder):\n",
    "    def default(self, obj):\n",
    "        if isinstance(obj, complex):\n",
    "            return [obj.real, obj.imag]\n",
    "        if isinstance(obj, datetime.date):\n",
    "            return obj.strftime('%Y-%m-%d %H:%M:%S')\n",
    "        return json.JSONEncoder.default(self, obj)\n",
    "\n",
    "    @staticmethod\n",
    "    def test():\n",
    "        json.dumps(2 + 1j, cls=CustomEncoder)  # ensure_ascii=\n",
    "        CustomEncoder().encode(2 + 1j)\n",
    "        list(CustomEncoder().iterencode(2 + 1j))\n",
    "\n",
    "        ret = datetime.datetime.now()\n",
    "        json.dumps(ret, cls=CustomEncoder)\n",
    "        # json.dumps()\n",
    "        # json.loads()\n",
    "        # json.dump()\n",
    "        # json.load()\n",
    "        # json.JSONDecoder.decode()\n",
    "        # json.JSONEncoder.encode()\n"
   ]
  },
  {
   "cell_type": "markdown",
   "metadata": {
    "heading_collapsed": true
   },
   "source": [
    "### random"
   ]
  },
  {
   "cell_type": "code",
   "execution_count": null,
   "metadata": {
    "hidden": true
   },
   "outputs": [],
   "source": [
    "def generate_captcha():\n",
    "    s = ''\n",
    "    for i in range(6):\n",
    "        num = random.randint(0, 9)               # 48\n",
    "        alpha1 = chr(random.randint(65, 90))     # 65\n",
    "        alpha2 = chr(random.randint(97, 122))    # 97\n",
    "        ret = random.choice([num, alpha1, alpha2])\n",
    "        s += str(ret)\n",
    "    print(s)\n",
    "\n",
    "    count = 0\n",
    "    for i in range(1, 6):\n",
    "        for j in range(1, 6):\n",
    "            for k in range(1, 6):\n",
    "                if (i != j) and (i != k) and (j != k):\n",
    "                    count += 1\n",
    "                    if count % 6:\n",
    "                        print(f'{i}{j}{k}', end='|')\n",
    "                    else:\n",
    "                        print('{}{}{}'.format(i, j, k))\n",
    "    print(count)\n",
    "\n",
    "\n",
    "def red_packge(money, num):\n",
    "    li = random.sample(range(1, money*100), num-1)\n",
    "    li.extend([0, money*100])\n",
    "    li.sort()\n",
    "    # for index in range(num):\n",
    "    #     yield (li[index+1]-li[index])/100\n",
    "    return [(li[index+1]-li[index])/100 for index in range(num)]"
   ]
  },
  {
   "cell_type": "markdown",
   "metadata": {
    "heading_collapsed": true
   },
   "source": [
    "### Exception\n",
    "    finally 经常被用来做一些局部代码的清理工作，\n",
    "    但是不建议在finally 中 return，finally中也会出现异常！那还写个毛啊！\n",
    "    无论是在java中还是python中 ，break 以及 continue 以及   return\n",
    "    等控制代码跳转的语句都不会屏蔽过 finally块！\n"
   ]
  },
  {
   "cell_type": "code",
   "execution_count": null,
   "metadata": {
    "hidden": true
   },
   "outputs": [],
   "source": [
    "class ShortInputException(Exception):\n",
    "    def __init__(self, length, atleast, switch):\n",
    "        # super().__init__()\n",
    "        self.length = length\n",
    "        self.atleast = atleast\n",
    "        self.switch = switch\n",
    "        str = input(\"请输入字符\")\n",
    "        try:\n",
    "            if len(str) < 3:\n",
    "                raise ShortInputException(len(str), 3)\n",
    "        except EOFError:\n",
    "            print(\"你输入了一个结束字符!\")\n",
    "        except ShortInputException as result:\n",
    "            print(\"输入的字符数必须大于3!:%s,%s,%s\" %\n",
    "                  (str, result.length, result.atleast))\n",
    "        else:\n",
    "            print(\"没有发生异常\")\n",
    "        # except 匹配不到，则由外层捕获，或者由系统抛出\n",
    "\n",
    "    def calc(self, a, b):\n",
    "        try:\n",
    "            return a / b        # 异常处理中抛出异常\n",
    "        except Exception as e:\n",
    "            if self.switch:\n",
    "                print(\"自己处理异常,异常处理如下:\")\n",
    "                print(e)\n",
    "            else:\n",
    "                print(\"不想处理异常了:爱咋咋地!\")\n",
    "                raise\n",
    "        else:\n",
    "            print(\"没有捕获到异常\")\n",
    "        finally:\n",
    "            print(\"程序在处理完异常或,未捕获到异常处理后总结!\")\n",
    "\n",
    "    @staticmethod\n",
    "    def func1():\n",
    "        try:\n",
    "            return 1\n",
    "        finally:\n",
    "            return 2\n",
    "\n",
    "    @staticmethod\n",
    "    def func2():\n",
    "        try:\n",
    "            raise ValueError()\n",
    "        except IndexError:\n",
    "            print('except')\n",
    "            return 1\n",
    "        else:\n",
    "            print('else')\n",
    "        finally:\n",
    "            return 3"
   ]
  }
 ],
 "metadata": {
  "kernelspec": {
   "display_name": "Python 3",
   "language": "python",
   "name": "python3"
  },
  "language_info": {
   "codemirror_mode": {
    "name": "ipython",
    "version": 3
   },
   "file_extension": ".py",
   "mimetype": "text/x-python",
   "name": "python",
   "nbconvert_exporter": "python",
   "pygments_lexer": "ipython3",
   "version": "3.6.8"
  }
 },
 "nbformat": 4,
 "nbformat_minor": 2
}
