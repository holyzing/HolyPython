{
 "cells": [
  {
   "cell_type": "markdown",
   "metadata": {},
   "source": [
    "比较排序 （comparison sort）\n",
    "=="
   ]
  },
  {
   "cell_type": "markdown",
   "metadata": {},
   "source": [
    "### 交换排序（Exchange Sort）"
   ]
  },
  {
   "cell_type": "markdown",
   "metadata": {},
   "source": [
    "#### 冒泡排序（Bubble Sort）"
   ]
  },
  {
   "cell_type": "code",
   "execution_count": null,
   "metadata": {},
   "outputs": [],
   "source": [
    "class BubbleSort(object):\n",
    "\n",
    "    @staticmethod\n",
    "    def bubble_sort_for(scrambl: list):\n",
    "        list_size = len(scrambl)\n",
    "        finish = False\n",
    "        for i in range(list_size):\n",
    "            if not finish:\n",
    "                finish = True\n",
    "                for j in range(list_size - i - 1):\n",
    "                    if scrambl[j] > scrambl[j + 1]:\n",
    "                        scrambl[j], scrambl[j + 1] = scrambl[j + 1], scrambl[j]\n",
    "                        finish = False\n",
    "            else:\n",
    "                break\n",
    "        return scrambl\n",
    "\n",
    "    @staticmethod\n",
    "    def bubble_sort_while(scrambl: list):\n",
    "        list_size = len(scrambl)\n",
    "        finish = True\n",
    "        while list_size > 1:\n",
    "            if finish:\n",
    "                finish = False\n",
    "                for j in range(list_size - 1):\n",
    "                    if scrambl[j] > scrambl[j + 1]:\n",
    "                        scrambl[j], scrambl[j + 1] = scrambl[j + 1], scrambl[j]\n",
    "                        finish = True\n",
    "            else:\n",
    "                break\n",
    "            list_size -= 1\n",
    "        return scrambl\n",
    "\n",
    "    @staticmethod\n",
    "    def bubble_sort_two_way(scrambl: list):\n",
    "        # TODO shift down 和 shift up 同时进行\n",
    "        pass"
   ]
  },
  {
   "cell_type": "markdown",
   "metadata": {},
   "source": [
    "#### 快速排序 （Quick Sort）"
   ]
  },
  {
   "cell_type": "code",
   "execution_count": null,
   "metadata": {},
   "outputs": [],
   "source": [
    "class QuickSort(object):\n",
    "    \"\"\"\n",
    "        1-为了便于递归经常选择第一个(倒数第一个也可以）作为中心数据,\n",
    "          因为递归过程中递归范围是变动的，从而无法选择其他位置作为中心数据。\n",
    "        2-不能保证你最后交换的那个数，是小于等于左边的，这与基准数的位置有关。\n",
    "          比如2 1 4 9\n",
    "    \"\"\"\n",
    "\n",
    "    @staticmethod\n",
    "    def quick_sort(scrambl: list, low: int, high: int):\n",
    "        if low > high:\n",
    "            return\n",
    "        i = low\n",
    "        j = high\n",
    "        center = scrambl[low]\n",
    "        # criterion : n. （批评判断的）标准；准则；规范；准据\n",
    "\n",
    "        '''\n",
    "            【1】 j 向左找，找到小的停下；i 向右找，再碰到 j 之前找到大的；交换值后继续；直到 j 碰到 i，或者 i 碰到 j !\n",
    "            【2】 j 向左找，找到小的停下；i 向右找，直到碰到 j 还没找到大的，j 处为小的，将小的移到中心值处，将中心值放到小的处！\n",
    "            【3】 j 向左找，直到碰到 i 还没找到小的，i处只能小于等于中心值，因为i处大于中心值，则说明i向前走过，i，\n",
    "                  向前走过则应该发生交换，此时 将 i 处值换为中心值，将 i 处的值移动到 中心值处。\n",
    "            【4】 核心是 i 左边始终是小的 ，j 的右边始终是大的。\n",
    "        '''\n",
    "\n",
    "        while i < j:  # i != j\n",
    "            while i < j and scrambl[j] >= center:\n",
    "                j -= 1\n",
    "\n",
    "            while i < j and scrambl[i] <= center:\n",
    "                i += 1\n",
    "\n",
    "            if i < j:\n",
    "                scrambl[i], scrambl[j] = scrambl[j], scrambl[i]\n",
    "\n",
    "            print(scrambl)\n",
    "\n",
    "        # 这种实现方式 最终 i 与 j 肯定位于同一位置。\n",
    "        scrambl[low] = scrambl[i]\n",
    "        scrambl[i] = center\n",
    "        QuickSort.quick_sort(scrambl, low, i - 1)\n",
    "        QuickSort.quick_sort(scrambl, i + 1, high)\n",
    "\n",
    "    @staticmethod\n",
    "    def quick_sort2(scrambl: list, low: int, high: int):\n",
    "        i = low\n",
    "        j = high\n",
    "        center = scrambl[low]\n",
    "        '''\n",
    "            【1】 j 向左找，找到小的；与 i 互换, i 向右找, 找到大的，与 j 互换； 此时 大的将小的重复的覆盖。\n",
    "                  继续，循环覆盖，直到 j 碰到 i，或者 i 碰到 j !\n",
    "            【2】 j 向左找，找到小的；i 向右找，直到碰到 j 还没找到大的，只好与 j 停于同一个位置，j 处为重复的小的，替换为中心数据\n",
    "            【3】 j 向左找，直到碰到 i 还没找到小的，i 处只能大于(重复的大值)等于中心值（没走过），如果小于中心值，\n",
    "                  则说明只能为重复的小值，这与 j 找不到小的矛盾。如果不是重复的小值，则说明i走过，走过则i处应为重复的大值。\n",
    "            【4】 核心是 i 左边始终是小的 ，j 的右边始终是大的。碰到处 即 i=j 即为中心值\n",
    "        '''\n",
    "        while i < j:\n",
    "            while i < j and scrambl[j] >= center:\n",
    "                j -= 1\n",
    "            if i < j:\n",
    "                scrambl[i] = scrambl[j]\n",
    "                i += 1\n",
    "\n",
    "            while i < j and scrambl[i] <= center:\n",
    "                i += 1\n",
    "            if i < j:\n",
    "                scrambl[j] = scrambl[i]\n",
    "                j -= 1\n",
    "\n",
    "            print(scrambl)\n",
    "\n",
    "        scrambl[i] = center\n",
    "\n",
    "        if i - 1 > low:\n",
    "            QuickSort.quick_sort2(scrambl, low, i - 1)\n",
    "        if j + 1 < high:\n",
    "            QuickSort.quick_sort2(scrambl, i + 1, high)\n",
    "\n",
    "        # 默认返回None\n"
   ]
  },
  {
   "cell_type": "markdown",
   "metadata": {},
   "source": [
    "### 插入排序（Insert Sort）\n",
    "    \"\"\"\n",
    "        插入排序对于少量的数据它是一个有效的算法。\n",
    "        插入排序的工作方式像人手里的扑克牌一样。\n",
    "        开始时我们手里为空并且桌子上的牌面向下。\n",
    "        然后我们每次从桌上拿走一张牌并将它插入手里正确的位置。\n",
    "        为了把这种牌插入正确的位置，我们要从右到左将它和已在手中的牌进行比较。\n",
    "    \"\"\""
   ]
  },
  {
   "cell_type": "markdown",
   "metadata": {},
   "source": [
    "#### 简单插入排序（Simple Insertion Sort）"
   ]
  },
  {
   "cell_type": "code",
   "execution_count": null,
   "metadata": {},
   "outputs": [],
   "source": [
    "class SimpleInsertSort(object):\n",
    "\n",
    "    @staticmethod\n",
    "    def insert_sort_forward(scrambl: list):\n",
    "        list_size = len(scrambl)\n",
    "        for i in range(1, list_size):  # 一开始手中已经有 1 张牌, 手中的牌都是有序的\n",
    "            temp = scrambl[i]  # scrambl[i] :揭起的第 i 张牌\n",
    "            for j in range(0, i):  # range(0, i-1) : 手中的 第0张到第i-1张有序牌\n",
    "                if scrambl[j] > temp:  # 正向比较\n",
    "                    while i > j:\n",
    "                        scrambl[i] = scrambl[i - 1]\n",
    "                        i -= 1\n",
    "                    scrambl[j] = temp\n",
    "                    break\n",
    "        return scrambl\n",
    "\n",
    "    @staticmethod\n",
    "    def insert_sort_backforward(scrambl: list):\n",
    "        list_size = len(scrambl)\n",
    "        for i in range(1, list_size):\n",
    "            end = i - 1\n",
    "            temp = scrambl[end]\n",
    "\n",
    "            while end >= 0 and scrambl[end] > temp:  # 反向比较\n",
    "                scrambl[end + 1] = scrambl[end]\n",
    "                end -= 1\n",
    "\n",
    "            scrambl[end + 1] = temp\n",
    "        return scrambl\n",
    "\n",
    "    @staticmethod\n",
    "    def binary_insert_sort(scrambl):\n",
    "        length = len(scrambl)\n",
    "        for i in range(1, length):\n",
    "            insert_position = BinarySearch.in_recursion(scrambl, scrambl[i], 0, i-1)\n",
    "            if insert_position == i:\n",
    "                continue\n",
    "            else:\n",
    "                insert_value = scrambl[i]\n",
    "                for j in range(i, insert_position, -1):\n",
    "                    scrambl[j] = scrambl[j - 1]\n",
    "                scrambl[insert_position] = insert_value\n",
    "        return scrambl"
   ]
  },
  {
   "cell_type": "markdown",
   "metadata": {},
   "source": [
    "#### 希尔排序（Shell Sort）"
   ]
  },
  {
   "cell_type": "code",
   "execution_count": null,
   "metadata": {},
   "outputs": [],
   "source": [
    "class ShellSort(object):\n",
    "    @staticmethod\n",
    "    def shell_sort1(lst: list):\n",
    "        step = len(lst) // 2\n",
    "        while step >= 1:\n",
    "            for i in range(step):\n",
    "                for j in range(i+step, len(lst), step):\n",
    "                    value = lst[j]\n",
    "                    j -= step\n",
    "                    while j >= i and lst[j] > value:\n",
    "                        lst[j+step] = lst[j]\n",
    "                        j -= step\n",
    "                    lst[j+step] = value\n",
    "            step //= 2\n",
    "        return lst\n",
    "\n",
    "    @staticmethod\n",
    "    def shell_sort2(lst: list):\n",
    "        step = len(lst) // 2\n",
    "        while step >= 1:\n",
    "            for i in range(step):\n",
    "                for j in range(i + step, len(lst), step):\n",
    "                    value = lst[j]\n",
    "                    while j >= i and value < lst[j - step]:\n",
    "                        lst[j] = lst[j - step]\n",
    "                        j -= step\n",
    "                    lst[j] = value\n",
    "            step //= 2\n",
    "        return lst"
   ]
  },
  {
   "cell_type": "markdown",
   "metadata": {},
   "source": [
    "### 选择排序（ Selection Sort ）"
   ]
  },
  {
   "cell_type": "markdown",
   "metadata": {},
   "source": [
    "#### 简单选择排序（Simple Selection Sort）"
   ]
  },
  {
   "cell_type": "code",
   "execution_count": null,
   "metadata": {},
   "outputs": [],
   "source": [
    "class SimpleSelectionSort(object):\n",
    "\n",
    "    @staticmethod\n",
    "    def select_sort_forward(scrambl: list):\n",
    "        list_size = len(scrambl)\n",
    "        for i in range(list_size - 1):\n",
    "            min_value = scrambl[i]\n",
    "            min_index = None\n",
    "            for j in range(i + 1, list_size):\n",
    "                if scrambl[j] < min_value:\n",
    "                    min_value = scrambl[j]\n",
    "                    min_index = j\n",
    "            if min_index:\n",
    "                scrambl[i], scrambl[min_index] = scrambl[min_index], scrambl[i]\n",
    "        return scrambl\n",
    "\n",
    "    @staticmethod\n",
    "    def select_sort_backward(scrambl: list):\n",
    "        list_size = len(scrambl)\n",
    "        for i in range(list_size - 1):\n",
    "            min_index = i\n",
    "            for j in range(i + 1, list_size):\n",
    "                if scrambl[j] < scrambl[min_index]:\n",
    "                    min_index = j\n",
    "            if min_index > i:\n",
    "                scrambl[i], scrambl[min_index] = scrambl[min_index], scrambl[i]\n",
    "        return scrambl"
   ]
  },
  {
   "cell_type": "markdown",
   "metadata": {},
   "source": [
    "#### 堆排序（Heap Sort）"
   ]
  },
  {
   "cell_type": "code",
   "execution_count": null,
   "metadata": {},
   "outputs": [],
   "source": [
    "class HeapSort(object):\n",
    "    # 完全二叉树可以用线性结构表示的树形结构！ 父节点始终小于子节点，且左节点始终小于右节点。\n",
    "    @staticmethod\n",
    "    def heap_sort(scrambl: list):\n",
    "        length = len(scrambl)\n",
    "        if length < 2:\n",
    "            return scrambl\n",
    "        for i in range(length//2 - 1, -1, -1):      # shift up\n",
    "            HeapSort.adjust_heap(scrambl, i, length)\n",
    "\n",
    "        for i in range(length - 1, -1, -1):         # shift down\n",
    "            scrambl[0], scrambl[i] = scrambl[i], scrambl[0]\n",
    "            HeapSort.adjust_heap(scrambl, 0, i)\n",
    "        return scrambl \n",
    "\n",
    "    @staticmethod\n",
    "    def adjust_heap(scrambl: list, father: int, length: int):\n",
    "        lchild = father * 2 + 1\n",
    "        rchild = father * 2 + 2\n",
    "        maxer = father\n",
    "\n",
    "        if rchild < length and scrambl[rchild] > scrambl[maxer]:\n",
    "            maxer = rchild\n",
    "\n",
    "        if lchild < length and scrambl[lchild] > scrambl[maxer]:\n",
    "            maxer = lchild\n",
    "\n",
    "        if maxer != father:\n",
    "            scrambl[father], scrambl[maxer] = scrambl[maxer], scrambl[father]\n",
    "            HeapSort.adjust_heap(scrambl, maxer, length)"
   ]
  },
  {
   "cell_type": "markdown",
   "metadata": {},
   "source": [
    "### 归并排序（Merge Sort）"
   ]
  },
  {
   "cell_type": "code",
   "execution_count": null,
   "metadata": {},
   "outputs": [],
   "source": [
    "class MergeSort(object):\n",
    "    \"\"\"\n",
    "        归并排序（MERGE-SORT）是建立在归并操作上的一种有效的排序算法,\n",
    "        该算法是采用分治法（Divide and Conquer）的一个非常典型的应用。\n",
    "        将已有序的子序列合并，得到完全有序的序列；即先使每个子序列有序，\n",
    "        再使子序列段间有序。若将两个有序表合并成一个有序表，称为二路归并。\n",
    "    \"\"\"\n",
    "\n",
    "    @staticmethod\n",
    "    def merge(scrambl: list, low_start: int, low_end: int, high_start: int, high_end: int):\n",
    "        \n",
    "        tmp = [None for i in range(high_end-low_start+1)]\n",
    "        \n",
    "        # 成了怎么合并两个有序的列表为一个有序的列表的算法\n",
    "        ls = low_start\n",
    "        index = 0\n",
    "        while low_start <= low_end and high_start <= high_end:\n",
    "            if scrambl[low_start] <= scrambl[high_start]:\n",
    "                tmp[index] = scrambl[low_start]\n",
    "                low_start += 1\n",
    "            else:\n",
    "                tmp[index] = scrambl[high_start]\n",
    "                high_start += 1\n",
    "            index += 1\n",
    "\n",
    "        # 最后肯定只有一个剩下, 也就是说只走一个while\n",
    "        while low_start <= low_end:\n",
    "            tmp[index] = scrambl[low_start]\n",
    "            low_start += 1\n",
    "            index += 1\n",
    "        while high_start <= high_end:\n",
    "            tmp[index] = scrambl[high_start]\n",
    "            high_start += 1\n",
    "            index += 1\n",
    "\n",
    "        for i in tmp:\n",
    "            scrambl[ls] = i\n",
    "            ls += 1\n",
    "\n",
    "    @staticmethod\n",
    "    def divide(scrambl: list, low: int, high: int):\n",
    "        if low < high:\n",
    "            mid = (low + high) // 2\n",
    "            MergeSort.divide(scrambl, low, mid)\n",
    "            MergeSort.divide(scrambl, mid + 1, high) # 最先归并的是最高位\n",
    "            MergeSort.merge(scrambl, low, mid, mid + 1, high)"
   ]
  },
  {
   "cell_type": "markdown",
   "metadata": {},
   "source": [
    "# --------------------------------------------------------------------------------------------------------"
   ]
  },
  {
   "cell_type": "markdown",
   "metadata": {},
   "source": [
    "非比较排序\n",
    "==\n",
    "\n",
    "1. 首先，基数排序和计数排序都可以看作是桶排序。\n",
    "2. 计数排序本质上是一种特殊的桶排序，当桶的个数取最大( maxV-minV+1 )的时候，就变成了计数排序。\n",
    "3. 基数排序也是一种桶排序。桶排序是按值区间划分桶，基数排序是按数位来划分；  \n",
    "   基数排序可以看做是多轮桶排序，每个数位上都进行一轮桶排序。\n",
    "4. 当用最大值作为基数时，基数排序就退化成了计数排序。"
   ]
  },
  {
   "cell_type": "markdown",
   "metadata": {},
   "source": [
    "### 桶排序"
   ]
  },
  {
   "cell_type": "code",
   "execution_count": null,
   "metadata": {},
   "outputs": [],
   "source": []
  },
  {
   "cell_type": "markdown",
   "metadata": {},
   "source": [
    "### 计数排序"
   ]
  },
  {
   "cell_type": "code",
   "execution_count": null,
   "metadata": {},
   "outputs": [],
   "source": []
  },
  {
   "cell_type": "markdown",
   "metadata": {},
   "source": [
    "### 基数排序"
   ]
  },
  {
   "cell_type": "code",
   "execution_count": null,
   "metadata": {},
   "outputs": [],
   "source": []
  }
 ],
 "metadata": {
  "kernelspec": {
   "display_name": "Python 3",
   "language": "python",
   "name": "python3"
  },
  "language_info": {
   "codemirror_mode": {
    "name": "ipython",
    "version": 3
   },
   "file_extension": ".py",
   "mimetype": "text/x-python",
   "name": "python",
   "nbconvert_exporter": "python",
   "pygments_lexer": "ipython3",
   "version": "3.6.8"
  }
 },
 "nbformat": 4,
 "nbformat_minor": 2
}