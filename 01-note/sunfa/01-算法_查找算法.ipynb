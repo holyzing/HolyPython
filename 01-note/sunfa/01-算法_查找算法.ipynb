{
 "cells": [
  {
   "cell_type": "markdown",
   "metadata": {},
   "source": [
    "Binary Search\n",
    "=="
   ]
  },
  {
   "cell_type": "code",
   "execution_count": null,
   "metadata": {},
   "outputs": [],
   "source": [
    "class BinarySearch(object):\n",
    "    @staticmethod\n",
    "    def in_recursion(order: list,  target: int, low: int, high: int):\n",
    "        \"\"\" 列表合法性校验 \"\"\"\n",
    "        middle = (low + high) // 2\n",
    "        if low == high:\n",
    "            return middle + 1 if order[middle] <= target else middle\n",
    "            # 小于 则往 middle 处插，大于 则往 middle+1 处插\n",
    "        elif low < high:\n",
    "            if target == order[middle]:\n",
    "                return middle + 1\n",
    "            elif target > order[middle]:\n",
    "                return BinarySearch.in_recursion(order, target, middle + 1, high)\n",
    "            else:\n",
    "                return BinarySearch.in_recursion(order, target, low, middle - 1)\n",
    "        else:\n",
    "            return low\n",
    "\n",
    "    @staticmethod\n",
    "    def in_loop(order: list, target: int, low: int, high: int):\n",
    "        if target <= order[low]:\n",
    "            return low\n",
    "        if target >= order[high]:\n",
    "            return high + 1\n",
    "\n",
    "        while low < high:\n",
    "            middle = (low + high) // 2\n",
    "            # 无论是 奇数个 还是 偶数个都会 折半为 偶数个\n",
    "            if target == order[middle]:\n",
    "                return middle + 1\n",
    "            elif target > order[middle]:\n",
    "                if target <= order[middle + 1]:\n",
    "                    # middle + 1 <= h 恒成立\n",
    "                    return middle + 1\n",
    "                low = middle + 1\n",
    "            else:\n",
    "                if middle - 1 >= low and target >= order[middle - 1]:\n",
    "                    return middle\n",
    "                high = middle - 1\n",
    "        else:\n",
    "            return low"
   ]
  },
  {
   "cell_type": "code",
   "execution_count": null,
   "metadata": {},
   "outputs": [],
   "source": [
    "if __name__ == '__main__':\n",
    "    lst = [1, 2, 3, 5, 5, 6, 7, 8, 9]\n",
    "    ts = [i for i in range(11)]\n",
    "    for t in ts:\n",
    "        r1 = BinarySearch.in_recursion(lst, t, 0, len(lst) - 1)\n",
    "        r2 = BinarySearch.in_loop(lst, t, 0, len(lst) - 1)\n",
    "        print(t, r1, r2)\n",
    "    pass"
   ]
  }
 ],
 "metadata": {
  "kernelspec": {
   "display_name": "Python 3",
   "language": "python",
   "name": "python3"
  },
  "language_info": {
   "codemirror_mode": {
    "name": "ipython",
    "version": 3
   },
   "file_extension": ".py",
   "mimetype": "text/x-python",
   "name": "python",
   "nbconvert_exporter": "python",
   "pygments_lexer": "ipython3",
   "version": "3.6.8"
  }
 },
 "nbformat": 4,
 "nbformat_minor": 2
}
