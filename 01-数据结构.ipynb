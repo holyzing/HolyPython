{
 "cells": [
  {
   "cell_type": "markdown",
   "metadata": {
    "heading_collapsed": true
   },
   "source": [
    "### 链表"
   ]
  },
  {
   "cell_type": "code",
   "execution_count": null,
   "metadata": {
    "hidden": true
   },
   "outputs": [],
   "source": [
    "def LinkedList(object):\n",
    "    def __init__(self, value):\n",
    "        self.value = value\n",
    "        self.next = None"
   ]
  },
  {
   "cell_type": "markdown",
   "metadata": {
    "heading_collapsed": true
   },
   "source": [
    "### 栈（Stack）\n"
   ]
  },
  {
   "cell_type": "code",
   "execution_count": null,
   "metadata": {
    "code_folding": [],
    "hidden": true
   },
   "outputs": [],
   "source": [
    "class Stack(object):\n",
    "\n",
    "    def __init__(self, lens):\n",
    "        self.__stack_list = []\n",
    "        self.__lens = lens\n",
    "\n",
    "    def pop(self):\n",
    "        # lens = len(self.__stack_list)\n",
    "        if self.__stack_list:\n",
    "            raise Exception(\"Empty Stack!\")\n",
    "        else:\n",
    "            # last = self.__stack_list[- 1]\n",
    "            self.__stack_list.pop()\n",
    "            return self.__stack_list.pop()\n",
    "        # 只要一句 self.__stack_list.pop() 即可，这就是python api 强大之处，出错会抛出 IndexError。\n",
    "\n",
    "    def push(self, el):\n",
    "        lens = len(self.__stack_list)\n",
    "        if lens == self.__lens:\n",
    "            raise Exception(\"Full Stack!\")\n",
    "        else:\n",
    "            self.__stack_list.append(el)\n",
    "\n",
    "    def top(self):\n",
    "        if self.__stack_list:\n",
    "            raise Exception(\"Empty Stack!\")\n",
    "        else:\n",
    "            return self.__stack_list[- 1]\n",
    "\n",
    "    def empty(self):\n",
    "        return bool(self.__stack_list)"
   ]
  },
  {
   "cell_type": "markdown",
   "metadata": {
    "heading_collapsed": true
   },
   "source": [
    "### 队列（Queue）"
   ]
  },
  {
   "cell_type": "code",
   "execution_count": null,
   "metadata": {
    "code_folding": [
     0
    ],
    "hidden": true
   },
   "outputs": [],
   "source": [
    "class Queue(object):\n",
    "    pass"
   ]
  },
  {
   "cell_type": "markdown",
   "metadata": {
    "heading_collapsed": true
   },
   "source": [
    "### 堆（Heap）"
   ]
  },
  {
   "cell_type": "code",
   "execution_count": null,
   "metadata": {
    "code_folding": [
     0
    ],
    "hidden": true
   },
   "outputs": [],
   "source": [
    "class Heap(object):\n",
    "    pass"
   ]
  },
  {
   "cell_type": "markdown",
   "metadata": {},
   "source": [
    "### 二叉树（Tree）\n",
    "    # TODO ：an = a1*q^(n-1)    Sn = (a1 - an^q)/(1 - q)\n",
    "    # TODO ：满二叉树 完全二叉树  搜索树  平衡树  红黑树  【B+  B-  字典树  后缀树  广义后缀树】"
   ]
  },
  {
   "cell_type": "code",
   "execution_count": null,
   "metadata": {
    "code_folding": [
     0
    ]
   },
   "outputs": [],
   "source": [
    "class Node(object):\n",
    "\n",
    "    def __init__(self, value):\n",
    "        self.value = value\n",
    "        self.lchild = None\n",
    "        self, rchild = None\n",
    "\n",
    "\n",
    "class Tree(object):\n",
    "\n",
    "    nodes_list = []\n",
    "\n",
    "    def __init__(self):\n",
    "        self.root = None\n",
    "\n",
    "    def add_node(self, value):\n",
    "        node = Node(value)\n",
    "        if self.root is None:\n",
    "            self.root = node\n",
    "            Tree.node_list.append(self.root)\n",
    "            return\n",
    "\n",
    "        while True:\n",
    "            n = Tree.node_list.pop(0)\n",
    "            if n.lchild is None:\n",
    "                n.lchild = node\n",
    "                Tree.node_list.append(n.lchild)\n",
    "                return\n",
    "            elif n.rchild is None:\n",
    "                n.rchild = node\n",
    "                Tree.node_list.append(n.rchild)\n",
    "                return\n",
    "\n",
    "    def max_depth(self, root):\n",
    "        \"\"\" 使用栈来完成遍历 \"\"\"\n",
    "        if root is None:\n",
    "            return 0\n",
    "        l = self.max_depth(root.lchild)\n",
    "        r = self.max_depth(root.rchild)\n",
    "        return max(l, r)+1\n",
    "\n",
    "    def test_list():\n",
    "        l = [1, 2, 3, 4]\n",
    "        for i in l:\n",
    "\n",
    "            print(i, l)\n",
    "            l.pop(0)\n",
    "            print(l)\n",
    "\n",
    "# ---------------------------------------------------------------------------------------------------------\n",
    "\n",
    "    def binary_search_tree():\n",
    "        \"\"\"\n",
    "            （1） 若任意节点的左子树不空，则左子树上所有结点的值均小于它的根结点的值；\n",
    "            （2） 若任意节点的右子树不空，则右子树上所有结点的值均大于它的根结点的值；\n",
    "            （3） 任意节点的左、右子树也分别为二叉查找树；\n",
    "            （4） 没有键值相等的节点。\n",
    "        \"\"\"\n",
    "        pass\n",
    "  \n",
    "    def balanced_binary_tree():\n",
    "        pass\n",
    "\n",
    "    def sort_binary_tree():  # 搜索 | 查找 | 排序\n",
    "        pass\n",
    "\n",
    "    def red_black_tree():\n",
    "        pass\n",
    "\n",
    "    def tree_traversal():\n",
    "\n",
    "        def preorder_traversal():\n",
    "            pass\n",
    "\n",
    "        def inorder_traversal():\n",
    "            pass\n",
    "\n",
    "        def postorder_traversal():\n",
    "            pass"
   ]
  },
  {
   "cell_type": "markdown",
   "metadata": {
    "heading_collapsed": true
   },
   "source": [
    "### 图（Graph）"
   ]
  },
  {
   "cell_type": "code",
   "execution_count": null,
   "metadata": {
    "code_folding": [
     0
    ],
    "hidden": true
   },
   "outputs": [],
   "source": [
    "class Graph(object):\n",
    "    pass"
   ]
  }
 ],
 "metadata": {
  "kernelspec": {
   "display_name": "Python 3",
   "language": "python",
   "name": "python3"
  },
  "language_info": {
   "codemirror_mode": {
    "name": "ipython",
    "version": 3
   },
   "file_extension": ".py",
   "mimetype": "text/x-python",
   "name": "python",
   "nbconvert_exporter": "python",
   "pygments_lexer": "ipython3",
   "version": "3.6.8"
  }
 },
 "nbformat": 4,
 "nbformat_minor": 2
}
