{
 "cells": [
  {
   "cell_type": "markdown",
   "metadata": {},
   "source": [
    "栈（Stack）\n",
    "=="
   ]
  },
  {
   "cell_type": "code",
   "execution_count": null,
   "metadata": {},
   "outputs": [],
   "source": [
    "class Stack(object):\n",
    "\n",
    "    def __init__(self, lens):\n",
    "        self.__stack_list = []\n",
    "        self.__lens = lens\n",
    "\n",
    "    def pop(self):\n",
    "        # lens = len(self.__stack_list)\n",
    "        if self.__stack_list:\n",
    "            raise Exception(\"Empty Stack!\")\n",
    "        else:\n",
    "            # last = self.__stack_list[- 1]\n",
    "            self.__stack_list.pop()\n",
    "            return self.__stack_list.pop()\n",
    "        # 只要一句 self.__stack_list.pop() 即可，这就是python api 强大之处，出错会抛出 IndexError。\n",
    "\n",
    "    def push(self, el):\n",
    "        lens = len(self.__stack_list)\n",
    "        if lens == self.__lens:\n",
    "            raise Exception(\"Full Stack!\")\n",
    "        else:\n",
    "            self.__stack_list.append(el)\n",
    "\n",
    "    def top(self):\n",
    "        if self.__stack_list:\n",
    "            raise Exception(\"Empty Stack!\")\n",
    "        else:\n",
    "            return self.__stack_list[- 1]\n",
    "\n",
    "    def empty(self):\n",
    "        return bool(self.__stack_list)"
   ]
  },
  {
   "cell_type": "markdown",
   "metadata": {},
   "source": [
    "队列（Queue）\n",
    "=="
   ]
  },
  {
   "cell_type": "code",
   "execution_count": null,
   "metadata": {},
   "outputs": [],
   "source": [
    "class Queue(object):\n",
    "    pass"
   ]
  },
  {
   "cell_type": "markdown",
   "metadata": {},
   "source": [
    "堆（Heap）\n",
    "=="
   ]
  },
  {
   "cell_type": "code",
   "execution_count": null,
   "metadata": {},
   "outputs": [],
   "source": [
    "class Heap(object):\n",
    "    pass"
   ]
  },
  {
   "cell_type": "markdown",
   "metadata": {},
   "source": [
    "二叉树（Tree）\n",
    "=="
   ]
  },
  {
   "cell_type": "code",
   "execution_count": null,
   "metadata": {},
   "outputs": [],
   "source": [
    "class Tree(object):\n",
    "    # TODO ：an = a1*q^(n-1)    Sn = (a1 - an^q)/(1 - q)\n",
    "    # TODO ：满二叉树 完全二叉树  搜索树  平衡树  红黑树  【B+  B-  字典树  后缀树  广义后缀树】\n",
    "    def binary_search_tree():\n",
    "        \"\"\"\n",
    "            （1） 若任意节点的左子树不空，则左子树上所有结点的值均小于它的根结点的值；\n",
    "            （2） 若任意节点的右子树不空，则右子树上所有结点的值均大于它的根结点的值；\n",
    "            （3） 任意节点的左、右子树也分别为二叉查找树；\n",
    "            （4） 没有键值相等的节点。\n",
    "        \"\"\"\n",
    "        pass\n",
    "\n",
    "    def balanced_binary_tree():\n",
    "        pass\n",
    "\n",
    "    def sort_binary_tree(): # 搜索 | 查找 | 排序\n",
    "        pass\n",
    "\n",
    "    def red_black_tree():\n",
    "        pass\n",
    "\n",
    "    def tree_traversal():\n",
    "\n",
    "        def preorder_traversal():\n",
    "            pass\n",
    "\n",
    "        def inorder_traversal():\n",
    "            pass\n",
    "\n",
    "        def postorder_traversal():\n",
    "            pass"
   ]
  },
  {
   "cell_type": "markdown",
   "metadata": {},
   "source": [
    "图（Graph）\n",
    "=="
   ]
  },
  {
   "cell_type": "code",
   "execution_count": null,
   "metadata": {},
   "outputs": [],
   "source": [
    "class Graph(object):\n",
    "    pass"
   ]
  }
 ],
 "metadata": {
  "kernelspec": {
   "display_name": "Python 3",
   "language": "python",
   "name": "python3"
  },
  "language_info": {
   "codemirror_mode": {
    "name": "ipython",
    "version": 3
   },
   "file_extension": ".py",
   "mimetype": "text/x-python",
   "name": "python",
   "nbconvert_exporter": "python",
   "pygments_lexer": "ipython3",
   "version": "3.6.8"
  }
 },
 "nbformat": 4,
 "nbformat_minor": 2
}
